{
 "cells": [
  {
   "cell_type": "code",
   "execution_count": 1,
   "id": "da628dc2-3da8-4611-808b-f1451f1a1d4e",
   "metadata": {},
   "outputs": [],
   "source": [
    "import pandas as pd \n",
    "import numpy as np\n",
    "import matplotlib.pyplot as plt\n",
    "import seaborn as sns\n",
    "%matplotlib inline\n",
    "from sklearn.ensemble import RandomForestClassifier\n",
    "from sklearn.model_selection import train_test_split\n",
    "from sklearn.ensemble import RandomForestClassifier\n",
    "from sklearn.model_selection import train_test_split\n",
    "from sklearn.metrics import classification_report, confusion_matrix, accuracy_score\n"
   ]
  },
  {
   "cell_type": "code",
   "execution_count": 2,
   "id": "a56a8eb7-e579-4661-b69e-6d2c6e9d4516",
   "metadata": {},
   "outputs": [],
   "source": [
    "df_17Kythuatmaytinh=pd.read_csv('17DTH1C_Kithuatmaytinh.csv')"
   ]
  },
  {
   "cell_type": "code",
   "execution_count": null,
   "id": "88461676-864c-4614-99b8-db15467b921c",
   "metadata": {},
   "outputs": [],
   "source": []
  },
  {
   "cell_type": "code",
   "execution_count": 3,
   "id": "b1d23bf1-b41f-4d5d-99dd-e89397b9920b",
   "metadata": {},
   "outputs": [
    {
     "name": "stdout",
     "output_type": "stream",
     "text": [
      "missing data is 0.0% in colums  \n",
      "missing data is 100.0% in colums Sinh hoat dau \n",
      "missing data is 33.33333333333333% in colums Ki nang giao tiep\n",
      "missing data is 33.33333333333333% in colums Giao duc quoc phong\n",
      "missing data is 33.33333333333333% in colums Kien truc may tinh\n",
      "missing data is 33.33333333333333% in colums Nhap mon cong nghe thong tin\n",
      "missing data is 33.33333333333333% in colums Co so lap trinh\n",
      "missing data is 33.33333333333333% in colums Toan cao cap A1\n",
      "missing data is 33.33333333333333% in colums Giao duc the chat\n",
      "missing data is 33.33333333333333% in colums Co so du lieu\n",
      "missing data is 33.33333333333333% in colums Tieng Anh tong quat 1\n",
      "missing data is 33.33333333333333% in colums Toan cao cap A2\n",
      "missing data is 33.33333333333333% in colums He dieu hanh\n",
      "missing data is 33.33333333333333% in colums Toan roi rac\n",
      "missing data is 23.52941176470588% in colums Tieng Anh tong quat 2\n",
      "missing data is 23.52941176470588% in colums Thiet ke web\n",
      "missing data is 19.607843137254903% in colums Phap luat dai cuong\n",
      "missing data is 23.52941176470588% in colums Cau truc du lieu va giai thuat\n",
      "missing data is 27.450980392156865% in colums Tieng Anh giao tiep quoc te 1\n",
      "missing data is 25.49019607843137% in colums An toan thong tin\n",
      "missing data is 33.33333333333333% in colums Nhung nguyen li co ban cua Chu nghia Mac - Lenin\n",
      "missing data is 33.33333333333333% in colums Ki thuat lap trinh\n",
      "missing data is 33.33333333333333% in colums Lap trinh Web\n",
      "missing data is 33.33333333333333% in colums Mang may tinh\n",
      "missing data is 33.33333333333333% in colums Tieng Anh giao tiep quoc te 2\n",
      "missing data is 33.33333333333333% in colums Xac xuat thong ke\n",
      "missing data is 33.33333333333333% in colums Duong loi cach mang cua Dang cong san Viet Nam\n",
      "missing data is 33.33333333333333% in colums Ki nang giao tiep(HP2)\n",
      "missing data is 33.33333333333333% in colums Qui hoach tuyen tinh\n",
      "missing data is 29.411764705882355% in colums Tu tuong Ho Chi Minh\n",
      "missing data is 29.411764705882355% in colums Do an co so KTMT\n",
      "missing data is 19.607843137254903% in colums Xay dung ha tang mang\n",
      "missing data is 19.607843137254903% in colums Tieng Anh chuyen nganh\n",
      "missing data is 13.725490196078432% in colums Phan tich thiet ke he thong mang\n",
      "missing data is 7.8431372549019605% in colums Quan tri mang\n",
      "missing data is 1.9607843137254901% in colums Mang khong day va di dong\n",
      "missing data is 0.0% in colums Lap trinh mang\n",
      "missing data is 0.0% in colums Trien khai he thong mang\n",
      "missing data is 0.0% in colums Truyen thong da phuong tien\n",
      "missing data is 0.0% in colums Dien toan dam may\n",
      "missing data is 0.0% in colums An ninh mang\n",
      "missing data is 0.0% in colums Mang quang\n",
      "missing data is 0.0% in colums Khoi nghiep\n",
      "missing data is 0.0% in colums Danh gia hieu nang mang\n",
      "missing data is 1.9607843137254901% in colums Chuyen de chuyen sau KTMT 1\n",
      "missing data is 7.8431372549019605% in colums  Chuyen de chuyen sau KTMT 2\n",
      "missing data is 15.686274509803921% in colums Li thuyet do thi\n",
      "missing data is 21.568627450980394% in colums Do an chuyen nganh KTMT\n",
      "missing data is 15.686274509803921% in colums Thuc tap tot nghiep\n",
      "missing data is 3.9215686274509802% in colums He quan tri co so du lieu\n",
      "missing data is 0.0% in colums Chuyen de KTMT1\n",
      "missing data is 0.0% in colums Chuyen de KTMT2\n",
      "missing data is 0.0% in colums Chuyen de KTMT3\n",
      "missing data is 66.66666666666666% in colums Trung binh tich luy\n",
      "missing data is 66.66666666666666% in colums Xep loai\n"
     ]
    }
   ],
   "source": [
    "for i in df_17Kythuatmaytinh.columns:\n",
    "    missing_Data=df_17Kythuatmaytinh[i].isna().sum()\n",
    "    pecent=missing_Data/len(df_17Kythuatmaytinh)*100\n",
    "    if pecent > 80:\n",
    "        df_17Kythuatmaytinh=df_17Kythuatmaytinh.drop(i,axis=1)\n",
    "    print(f\"missing data is {pecent}% in colums {i}\")\n"
   ]
  },
  {
   "cell_type": "code",
   "execution_count": 4,
   "id": "d059275f-f271-4761-a58c-491ca763fed0",
   "metadata": {},
   "outputs": [],
   "source": [
    "lt=np.arange(2,len(df_17Kythuatmaytinh['Ki nang giao tiep']),3)\n",
    "df_17kythuatmaytinh=df_17Kythuatmaytinh.iloc[lt,:]"
   ]
  },
  {
   "cell_type": "code",
   "execution_count": 5,
   "id": "b791cd58-801e-42f5-a98e-e285ecb6c3da",
   "metadata": {},
   "outputs": [],
   "source": [
    "df_17Kythuatmaytinh=df_17Kythuatmaytinh.iloc[lt,:]"
   ]
  },
  {
   "cell_type": "code",
   "execution_count": 6,
   "id": "46c81a4c-30ac-4fb8-9c03-675624c093b3",
   "metadata": {},
   "outputs": [
    {
     "data": {
      "text/plain": [
       "Kha           9\n",
       "Trung binh    8\n",
       "Name: Xep loai, dtype: int64"
      ]
     },
     "execution_count": 6,
     "metadata": {},
     "output_type": "execute_result"
    }
   ],
   "source": [
    "df_17Kythuatmaytinh['Xep loai'].value_counts()"
   ]
  },
  {
   "cell_type": "code",
   "execution_count": 7,
   "id": "f189025d",
   "metadata": {},
   "outputs": [
    {
     "data": {
      "text/plain": [
       "'df_17Kythuatmaytinh\\nfor i in df_17Kythuatmaytinh.columns:\\n    missing_Data=df_17Kythuatmaytinh[i].isna().sum()\\n    pecent=missing_Data/len(df_17Kythuatmaytinh)*100\\n    print(f\"missing data is {pecent}% in colums {i}\")'"
      ]
     },
     "execution_count": 7,
     "metadata": {},
     "output_type": "execute_result"
    }
   ],
   "source": [
    "'''df_17Kythuatmaytinh\n",
    "for i in df_17Kythuatmaytinh.columns:\n",
    "    missing_Data=df_17Kythuatmaytinh[i].isna().sum()\n",
    "    pecent=missing_Data/len(df_17Kythuatmaytinh)*100\n",
    "    print(f\"missing data is {pecent}% in colums {i}\")'''"
   ]
  },
  {
   "cell_type": "code",
   "execution_count": 8,
   "id": "b0e1705f",
   "metadata": {},
   "outputs": [
    {
     "data": {
      "text/plain": [
       "<AxesSubplot:>"
      ]
     },
     "execution_count": 8,
     "metadata": {},
     "output_type": "execute_result"
    },
    {
     "data": {
      "image/png": "[encoded data removed]",
      "text/plain": [
       "<Figure size 432x288 with 2 Axes>"
      ]
     },
     "metadata": {
      "needs_background": "light"
     },
     "output_type": "display_data"
    }
   ],
   "source": [
    "sns.heatmap(df_17Kythuatmaytinh.isna())"
   ]
  },
  {
   "cell_type": "code",
   "execution_count": 9,
   "id": "41fe7a93",
   "metadata": {},
   "outputs": [],
   "source": [
    "df_17Kythuatmaytinh=df_17Kythuatmaytinh.drop(['Giao duc quoc phong','Giao duc the chat'],axis=1)"
   ]
  },
  {
   "cell_type": "code",
   "execution_count": 10,
   "id": "18a6ae54",
   "metadata": {},
   "outputs": [
    {
     "data": {
      "text/html": [
       "<div>\n",
       "<style scoped>\n",
       "    .dataframe tbody tr th:only-of-type {\n",
       "        vertical-align: middle;\n",
       "    }\n",
       "\n",
       "    .dataframe tbody tr th {\n",
       "        vertical-align: top;\n",
       "    }\n",
       "\n",
       "    .dataframe thead th {\n",
       "        text-align: right;\n",
       "    }\n",
       "</style>\n",
       "<table border=\"1\" class=\"dataframe\">\n",
       "  <thead>\n",
       "    <tr style=\"text-align: right;\">\n",
       "      <th></th>\n",
       "      <th></th>\n",
       "      <th>Ki nang giao tiep</th>\n",
       "      <th>Kien truc may tinh</th>\n",
       "      <th>Nhap mon cong nghe thong tin</th>\n",
       "      <th>Co so lap trinh</th>\n",
       "      <th>Toan cao cap A1</th>\n",
       "      <th>Co so du lieu</th>\n",
       "      <th>Tieng Anh tong quat 1</th>\n",
       "      <th>Toan cao cap A2</th>\n",
       "      <th>He dieu hanh</th>\n",
       "      <th>...</th>\n",
       "      <th>Chuyen de chuyen sau KTMT 2</th>\n",
       "      <th>Li thuyet do thi</th>\n",
       "      <th>Do an chuyen nganh KTMT</th>\n",
       "      <th>Thuc tap tot nghiep</th>\n",
       "      <th>He quan tri co so du lieu</th>\n",
       "      <th>Chuyen de KTMT1</th>\n",
       "      <th>Chuyen de KTMT2</th>\n",
       "      <th>Chuyen de KTMT3</th>\n",
       "      <th>Trung binh tich luy</th>\n",
       "      <th>Xep loai</th>\n",
       "    </tr>\n",
       "  </thead>\n",
       "  <tbody>\n",
       "    <tr>\n",
       "      <th>count</th>\n",
       "      <td>17</td>\n",
       "      <td>17</td>\n",
       "      <td>17</td>\n",
       "      <td>17</td>\n",
       "      <td>17</td>\n",
       "      <td>17</td>\n",
       "      <td>17</td>\n",
       "      <td>17</td>\n",
       "      <td>17</td>\n",
       "      <td>17</td>\n",
       "      <td>...</td>\n",
       "      <td>17</td>\n",
       "      <td>17</td>\n",
       "      <td>17</td>\n",
       "      <td>17</td>\n",
       "      <td>17</td>\n",
       "      <td>17</td>\n",
       "      <td>17</td>\n",
       "      <td>17</td>\n",
       "      <td>17</td>\n",
       "      <td>17</td>\n",
       "    </tr>\n",
       "    <tr>\n",
       "      <th>unique</th>\n",
       "      <td>1</td>\n",
       "      <td>8</td>\n",
       "      <td>14</td>\n",
       "      <td>13</td>\n",
       "      <td>12</td>\n",
       "      <td>12</td>\n",
       "      <td>13</td>\n",
       "      <td>12</td>\n",
       "      <td>15</td>\n",
       "      <td>14</td>\n",
       "      <td>...</td>\n",
       "      <td>12</td>\n",
       "      <td>12</td>\n",
       "      <td>12</td>\n",
       "      <td>13</td>\n",
       "      <td>12</td>\n",
       "      <td>12</td>\n",
       "      <td>9</td>\n",
       "      <td>14</td>\n",
       "      <td>16</td>\n",
       "      <td>2</td>\n",
       "    </tr>\n",
       "    <tr>\n",
       "      <th>top</th>\n",
       "      <td>Diem tong ket</td>\n",
       "      <td>9,90</td>\n",
       "      <td>7,20</td>\n",
       "      <td>7,40</td>\n",
       "      <td>5,60</td>\n",
       "      <td>7,30</td>\n",
       "      <td>6,20</td>\n",
       "      <td>7,40</td>\n",
       "      <td>5,80</td>\n",
       "      <td>7,10</td>\n",
       "      <td>...</td>\n",
       "      <td>8,20</td>\n",
       "      <td>8,00</td>\n",
       "      <td>8,00</td>\n",
       "      <td>8,00</td>\n",
       "      <td>7,40</td>\n",
       "      <td>7,70</td>\n",
       "      <td>7,80</td>\n",
       "      <td>8,40</td>\n",
       "      <td>6,82</td>\n",
       "      <td>Kha</td>\n",
       "    </tr>\n",
       "    <tr>\n",
       "      <th>freq</th>\n",
       "      <td>17</td>\n",
       "      <td>5</td>\n",
       "      <td>2</td>\n",
       "      <td>3</td>\n",
       "      <td>3</td>\n",
       "      <td>3</td>\n",
       "      <td>3</td>\n",
       "      <td>3</td>\n",
       "      <td>2</td>\n",
       "      <td>3</td>\n",
       "      <td>...</td>\n",
       "      <td>3</td>\n",
       "      <td>3</td>\n",
       "      <td>3</td>\n",
       "      <td>3</td>\n",
       "      <td>3</td>\n",
       "      <td>3</td>\n",
       "      <td>4</td>\n",
       "      <td>2</td>\n",
       "      <td>2</td>\n",
       "      <td>9</td>\n",
       "    </tr>\n",
       "  </tbody>\n",
       "</table>\n",
       "<p>4 rows × 52 columns</p>\n",
       "</div>"
      ],
      "text/plain": [
       "                      Ki nang giao tiep Kien truc may tinh  \\\n",
       "count              17                17                 17   \n",
       "unique              1                 8                 14   \n",
       "top     Diem tong ket              9,90               7,20   \n",
       "freq               17                 5                  2   \n",
       "\n",
       "       Nhap mon cong nghe thong tin Co so lap trinh Toan cao cap A1  \\\n",
       "count                            17              17              17   \n",
       "unique                           13              12              12   \n",
       "top                            7,40            5,60            7,30   \n",
       "freq                              3               3               3   \n",
       "\n",
       "       Co so du lieu Tieng Anh tong quat 1 Toan cao cap A2 He dieu hanh  ...  \\\n",
       "count             17                    17              17           17  ...   \n",
       "unique            13                    12              15           14  ...   \n",
       "top             6,20                  7,40            5,80         7,10  ...   \n",
       "freq               3                     3               2            3  ...   \n",
       "\n",
       "        Chuyen de chuyen sau KTMT 2 Li thuyet do thi Do an chuyen nganh KTMT  \\\n",
       "count                            17               17                      17   \n",
       "unique                           12               12                      12   \n",
       "top                            8,20             8,00                    8,00   \n",
       "freq                              3                3                       3   \n",
       "\n",
       "       Thuc tap tot nghiep He quan tri co so du lieu Chuyen de KTMT1  \\\n",
       "count                   17                        17              17   \n",
       "unique                  13                        12              12   \n",
       "top                   8,00                      7,40            7,70   \n",
       "freq                     3                         3               3   \n",
       "\n",
       "       Chuyen de KTMT2 Chuyen de KTMT3 Trung binh tich luy Xep loai  \n",
       "count               17              17                  17       17  \n",
       "unique               9              14                  16        2  \n",
       "top               7,80            8,40                6,82      Kha  \n",
       "freq                 4               2                   2        9  \n",
       "\n",
       "[4 rows x 52 columns]"
      ]
     },
     "execution_count": 10,
     "metadata": {},
     "output_type": "execute_result"
    }
   ],
   "source": [
    "df_17Kythuatmaytinh.describe()"
   ]
  },
  {
   "cell_type": "code",
   "execution_count": 11,
   "id": "aa740906",
   "metadata": {},
   "outputs": [
    {
     "data": {
      "text/plain": [
       "\"count_class0,count_class1=df_17Kythuatmaytinh['Xep loai'].value_counts()\\ndf_class0=df_17Kythuatmaytinh[df_17Kythuatmaytinh['Xep loai']=='Kha']\\ndf_class1=df_17Kythuatmaytinh[df_17Kythuatmaytinh['Xep loai']=='Trung binh']\""
      ]
     },
     "execution_count": 11,
     "metadata": {},
     "output_type": "execute_result"
    }
   ],
   "source": [
    "'''count_class0,count_class1=df_17Kythuatmaytinh['Xep loai'].value_counts()\n",
    "df_class0=df_17Kythuatmaytinh[df_17Kythuatmaytinh['Xep loai']=='Kha']\n",
    "df_class1=df_17Kythuatmaytinh[df_17Kythuatmaytinh['Xep loai']=='Trung binh']'''"
   ]
  },
  {
   "cell_type": "code",
   "execution_count": 12,
   "id": "20c9b387",
   "metadata": {},
   "outputs": [
    {
     "data": {
      "text/plain": [
       "'df_class0_over=df_class0.sample(100,replace=True)\\ndf_class1_over=df_class1.sample(100,replace=True)\\ndf_test_over=pd.concat([df_class0_over,df_class1_over],axis=0)'"
      ]
     },
     "execution_count": 12,
     "metadata": {},
     "output_type": "execute_result"
    }
   ],
   "source": [
    "'''df_class0_over=df_class0.sample(100,replace=True)\n",
    "df_class1_over=df_class1.sample(100,replace=True)\n",
    "df_test_over=pd.concat([df_class0_over,df_class1_over],axis=0)'''"
   ]
  },
  {
   "cell_type": "code",
   "execution_count": 13,
   "id": "1d8361ed",
   "metadata": {},
   "outputs": [
    {
     "data": {
      "text/plain": [
       "\"df_test_over['Xep loai'].value_counts()\""
      ]
     },
     "execution_count": 13,
     "metadata": {},
     "output_type": "execute_result"
    }
   ],
   "source": [
    "'''df_test_over['Xep loai'].value_counts()'''"
   ]
  },
  {
   "cell_type": "code",
   "execution_count": 14,
   "id": "eb2fca4c",
   "metadata": {},
   "outputs": [],
   "source": [
    "rdf=RandomForestClassifier(200)"
   ]
  },
  {
   "cell_type": "code",
   "execution_count": 15,
   "id": "03695b55",
   "metadata": {},
   "outputs": [],
   "source": [
    "df_train=df_17Kythuatmaytinh.iloc[:,1:-2]\n",
    "result=df_17Kythuatmaytinh.iloc[:,-1]"
   ]
  },
  {
   "cell_type": "code",
   "execution_count": 16,
   "id": "ca72ba92",
   "metadata": {},
   "outputs": [
    {
     "name": "stderr",
     "output_type": "stream",
     "text": [
      "C:\\Users\\HoaiFong\\AppData\\Local\\Temp/ipykernel_15088/2062424924.py:2: SettingWithCopyWarning: \n",
      "A value is trying to be set on a copy of a slice from a DataFrame.\n",
      "Try using .loc[row_indexer,col_indexer] = value instead\n",
      "\n",
      "See the caveats in the documentation: https://pandas.pydata.org/pandas-docs/stable/user_guide/indexing.html#returning-a-view-versus-a-copy\n",
      "  df_train[col]=df_train[col].apply(lambda x:float(str(x).replace(',','.')))\n"
     ]
    }
   ],
   "source": [
    "for col in df_train:\n",
    "    df_train[col]=df_train[col].apply(lambda x:float(str(x).replace(',','.')))"
   ]
  },
  {
   "cell_type": "code",
   "execution_count": 17,
   "id": "207983ff",
   "metadata": {},
   "outputs": [
    {
     "name": "stderr",
     "output_type": "stream",
     "text": [
      "C:\\Users\\HoaiFong\\AppData\\Local\\Temp/ipykernel_15088/183054956.py:2: SettingWithCopyWarning: \n",
      "A value is trying to be set on a copy of a slice from a DataFrame.\n",
      "Try using .loc[row_indexer,col_indexer] = value instead\n",
      "\n",
      "See the caveats in the documentation: https://pandas.pydata.org/pandas-docs/stable/user_guide/indexing.html#returning-a-view-versus-a-copy\n",
      "  df_train[col]=df_train[col].fillna(df_train[col].mean())\n"
     ]
    }
   ],
   "source": [
    "for col in df_train:\n",
    "    df_train[col]=df_train[col].fillna(df_train[col].mean())"
   ]
  },
  {
   "cell_type": "code",
   "execution_count": 18,
   "id": "b59c6f8b",
   "metadata": {},
   "outputs": [
    {
     "data": {
      "text/plain": [
       "RandomForestClassifier(max_features=40, n_estimators=300, oob_score=True)"
      ]
     },
     "execution_count": 18,
     "metadata": {},
     "output_type": "execute_result"
    }
   ],
   "source": [
    "x_train,x_test,y_train,y_test=train_test_split(df_train,result,test_size=0.2,random_state=0)\n",
    "\n",
    "rf = RandomForestClassifier(n_estimators=300,bootstrap=True,oob_score=True,max_features=40)\n",
    "rf.fit(x_train,y_train)"
   ]
  },
  {
   "cell_type": "code",
   "execution_count": 19,
   "id": "1ae71ed8",
   "metadata": {},
   "outputs": [],
   "source": [
    "sorted_idx = rf.feature_importances_.argsort()\n"
   ]
  },
  {
   "cell_type": "code",
   "execution_count": 20,
   "id": "61901dff",
   "metadata": {},
   "outputs": [
    {
     "name": "stdout",
     "output_type": "stream",
     "text": [
      "              precision    recall  f1-score   support\n",
      "\n",
      "         Kha       1.00      0.50      0.67         2\n",
      "  Trung binh       0.67      1.00      0.80         2\n",
      "\n",
      "    accuracy                           0.75         4\n",
      "   macro avg       0.83      0.75      0.73         4\n",
      "weighted avg       0.83      0.75      0.73         4\n",
      "\n",
      "0.75\n"
     ]
    }
   ],
   "source": [
    "y_pred=rf.predict(x_test)\n",
    "print(classification_report(y_test,y_pred))\n",
    "print(accuracy_score(y_test, y_pred))"
   ]
  },
  {
   "cell_type": "code",
   "execution_count": 21,
   "id": "c52e12c2",
   "metadata": {},
   "outputs": [],
   "source": [
    "arr=[]\n",
    "for i in zip(x_train.columns[sorted_idx], rf.feature_importances_[sorted_idx]):\n",
    "    arr.append(i)\n"
   ]
  },
  {
   "cell_type": "code",
   "execution_count": 22,
   "id": "8a96b8bf",
   "metadata": {},
   "outputs": [],
   "source": [
    "sorted_by_second = sorted(arr, key=lambda tup: tup[1], reverse=True)"
   ]
  },
  {
   "cell_type": "code",
   "execution_count": 23,
   "id": "7925b560",
   "metadata": {},
   "outputs": [
    {
     "data": {
      "text/plain": [
       "['Ki nang giao tiep(HP2)',\n",
       " 'He dieu hanh',\n",
       " ' Chuyen de chuyen sau KTMT 2',\n",
       " 'Tieng Anh tong quat 1',\n",
       " 'Lap trinh mang',\n",
       " 'Dien toan dam may',\n",
       " 'Truyen thong da phuong tien',\n",
       " 'Chuyen de chuyen sau KTMT 1',\n",
       " 'An toan thong tin',\n",
       " 'Khoi nghiep']"
      ]
     },
     "execution_count": 23,
     "metadata": {},
     "output_type": "execute_result"
    }
   ],
   "source": [
    "a=sorted_by_second[:10]\n",
    "names=[]\n",
    "for i in range(len(a)):\n",
    "    names.append(a[i][0])\n",
    "names  "
   ]
  },
  {
   "cell_type": "code",
   "execution_count": 24,
   "id": "6a38d8a5",
   "metadata": {},
   "outputs": [
    {
     "name": "stderr",
     "output_type": "stream",
     "text": [
      "C:\\Users\\HoaiFong\\AppData\\Local\\Temp/ipykernel_15088/1112975063.py:3: SettingWithCopyWarning: \n",
      "A value is trying to be set on a copy of a slice from a DataFrame.\n",
      "Try using .loc[row_indexer,col_indexer] = value instead\n",
      "\n",
      "See the caveats in the documentation: https://pandas.pydata.org/pandas-docs/stable/user_guide/indexing.html#returning-a-view-versus-a-copy\n",
      "  df_something[col]=df_something[col].apply(lambda x:float(str(x).replace(',','.')))\n",
      "C:\\Users\\HoaiFong\\AppData\\Local\\Temp/ipykernel_15088/1112975063.py:5: SettingWithCopyWarning: \n",
      "A value is trying to be set on a copy of a slice from a DataFrame.\n",
      "Try using .loc[row_indexer,col_indexer] = value instead\n",
      "\n",
      "See the caveats in the documentation: https://pandas.pydata.org/pandas-docs/stable/user_guide/indexing.html#returning-a-view-versus-a-copy\n",
      "  df_something[col]=df_something[col].fillna(df_something[col].mean())\n"
     ]
    },
    {
     "data": {
      "text/html": [
       "<div>\n",
       "<style scoped>\n",
       "    .dataframe tbody tr th:only-of-type {\n",
       "        vertical-align: middle;\n",
       "    }\n",
       "\n",
       "    .dataframe tbody tr th {\n",
       "        vertical-align: top;\n",
       "    }\n",
       "\n",
       "    .dataframe thead th {\n",
       "        text-align: right;\n",
       "    }\n",
       "</style>\n",
       "<table border=\"1\" class=\"dataframe\">\n",
       "  <thead>\n",
       "    <tr style=\"text-align: right;\">\n",
       "      <th></th>\n",
       "      <th>Ki nang giao tiep(HP2)</th>\n",
       "      <th>He dieu hanh</th>\n",
       "      <th>Chuyen de chuyen sau KTMT 2</th>\n",
       "      <th>Tieng Anh tong quat 1</th>\n",
       "      <th>Lap trinh mang</th>\n",
       "      <th>Dien toan dam may</th>\n",
       "      <th>Truyen thong da phuong tien</th>\n",
       "      <th>Chuyen de chuyen sau KTMT 1</th>\n",
       "      <th>An toan thong tin</th>\n",
       "      <th>Khoi nghiep</th>\n",
       "    </tr>\n",
       "  </thead>\n",
       "  <tbody>\n",
       "    <tr>\n",
       "      <th>2</th>\n",
       "      <td>8.2</td>\n",
       "      <td>6.8</td>\n",
       "      <td>7.2</td>\n",
       "      <td>7.4</td>\n",
       "      <td>9.4</td>\n",
       "      <td>8.0</td>\n",
       "      <td>7.9</td>\n",
       "      <td>6.7</td>\n",
       "      <td>6.0</td>\n",
       "      <td>8.1</td>\n",
       "    </tr>\n",
       "    <tr>\n",
       "      <th>5</th>\n",
       "      <td>5.7</td>\n",
       "      <td>5.7</td>\n",
       "      <td>7.8</td>\n",
       "      <td>8.0</td>\n",
       "      <td>8.3</td>\n",
       "      <td>6.6</td>\n",
       "      <td>7.6</td>\n",
       "      <td>7.3</td>\n",
       "      <td>5.0</td>\n",
       "      <td>7.1</td>\n",
       "    </tr>\n",
       "    <tr>\n",
       "      <th>8</th>\n",
       "      <td>6.3</td>\n",
       "      <td>7.1</td>\n",
       "      <td>6.4</td>\n",
       "      <td>6.8</td>\n",
       "      <td>6.8</td>\n",
       "      <td>5.7</td>\n",
       "      <td>6.1</td>\n",
       "      <td>7.5</td>\n",
       "      <td>8.4</td>\n",
       "      <td>6.6</td>\n",
       "    </tr>\n",
       "    <tr>\n",
       "      <th>11</th>\n",
       "      <td>8.4</td>\n",
       "      <td>6.8</td>\n",
       "      <td>8.2</td>\n",
       "      <td>5.8</td>\n",
       "      <td>8.2</td>\n",
       "      <td>6.8</td>\n",
       "      <td>8.7</td>\n",
       "      <td>7.8</td>\n",
       "      <td>5.2</td>\n",
       "      <td>7.6</td>\n",
       "    </tr>\n",
       "    <tr>\n",
       "      <th>14</th>\n",
       "      <td>4.2</td>\n",
       "      <td>6.5</td>\n",
       "      <td>8.0</td>\n",
       "      <td>6.4</td>\n",
       "      <td>6.9</td>\n",
       "      <td>6.6</td>\n",
       "      <td>6.2</td>\n",
       "      <td>8.2</td>\n",
       "      <td>5.5</td>\n",
       "      <td>8.3</td>\n",
       "    </tr>\n",
       "    <tr>\n",
       "      <th>17</th>\n",
       "      <td>6.7</td>\n",
       "      <td>7.2</td>\n",
       "      <td>7.0</td>\n",
       "      <td>7.8</td>\n",
       "      <td>4.5</td>\n",
       "      <td>6.0</td>\n",
       "      <td>5.6</td>\n",
       "      <td>6.3</td>\n",
       "      <td>5.5</td>\n",
       "      <td>5.9</td>\n",
       "    </tr>\n",
       "    <tr>\n",
       "      <th>20</th>\n",
       "      <td>5.7</td>\n",
       "      <td>7.6</td>\n",
       "      <td>8.2</td>\n",
       "      <td>6.4</td>\n",
       "      <td>7.7</td>\n",
       "      <td>6.9</td>\n",
       "      <td>6.2</td>\n",
       "      <td>7.3</td>\n",
       "      <td>7.3</td>\n",
       "      <td>6.5</td>\n",
       "    </tr>\n",
       "    <tr>\n",
       "      <th>23</th>\n",
       "      <td>7.2</td>\n",
       "      <td>7.1</td>\n",
       "      <td>8.2</td>\n",
       "      <td>6.2</td>\n",
       "      <td>7.7</td>\n",
       "      <td>6.6</td>\n",
       "      <td>6.9</td>\n",
       "      <td>7.5</td>\n",
       "      <td>6.9</td>\n",
       "      <td>6.9</td>\n",
       "    </tr>\n",
       "    <tr>\n",
       "      <th>26</th>\n",
       "      <td>5.7</td>\n",
       "      <td>5.6</td>\n",
       "      <td>8.8</td>\n",
       "      <td>6.7</td>\n",
       "      <td>4.2</td>\n",
       "      <td>5.1</td>\n",
       "      <td>6.2</td>\n",
       "      <td>7.8</td>\n",
       "      <td>7.7</td>\n",
       "      <td>7.5</td>\n",
       "    </tr>\n",
       "    <tr>\n",
       "      <th>29</th>\n",
       "      <td>8.7</td>\n",
       "      <td>4.8</td>\n",
       "      <td>7.0</td>\n",
       "      <td>7.4</td>\n",
       "      <td>6.9</td>\n",
       "      <td>6.2</td>\n",
       "      <td>5.3</td>\n",
       "      <td>9.6</td>\n",
       "      <td>5.5</td>\n",
       "      <td>6.2</td>\n",
       "    </tr>\n",
       "    <tr>\n",
       "      <th>32</th>\n",
       "      <td>4.9</td>\n",
       "      <td>8.1</td>\n",
       "      <td>8.6</td>\n",
       "      <td>8.8</td>\n",
       "      <td>6.7</td>\n",
       "      <td>6.9</td>\n",
       "      <td>7.9</td>\n",
       "      <td>6.9</td>\n",
       "      <td>7.0</td>\n",
       "      <td>5.3</td>\n",
       "    </tr>\n",
       "    <tr>\n",
       "      <th>35</th>\n",
       "      <td>9.0</td>\n",
       "      <td>5.5</td>\n",
       "      <td>9.0</td>\n",
       "      <td>4.8</td>\n",
       "      <td>7.4</td>\n",
       "      <td>9.0</td>\n",
       "      <td>7.5</td>\n",
       "      <td>8.3</td>\n",
       "      <td>5.8</td>\n",
       "      <td>7.9</td>\n",
       "    </tr>\n",
       "    <tr>\n",
       "      <th>38</th>\n",
       "      <td>7.2</td>\n",
       "      <td>7.1</td>\n",
       "      <td>8.3</td>\n",
       "      <td>5.8</td>\n",
       "      <td>8.3</td>\n",
       "      <td>6.6</td>\n",
       "      <td>7.7</td>\n",
       "      <td>7.8</td>\n",
       "      <td>6.0</td>\n",
       "      <td>6.7</td>\n",
       "    </tr>\n",
       "    <tr>\n",
       "      <th>41</th>\n",
       "      <td>8.0</td>\n",
       "      <td>5.0</td>\n",
       "      <td>9.1</td>\n",
       "      <td>5.1</td>\n",
       "      <td>7.9</td>\n",
       "      <td>8.2</td>\n",
       "      <td>5.3</td>\n",
       "      <td>8.1</td>\n",
       "      <td>4.8</td>\n",
       "      <td>7.5</td>\n",
       "    </tr>\n",
       "    <tr>\n",
       "      <th>44</th>\n",
       "      <td>7.2</td>\n",
       "      <td>8.0</td>\n",
       "      <td>6.3</td>\n",
       "      <td>6.8</td>\n",
       "      <td>8.8</td>\n",
       "      <td>6.0</td>\n",
       "      <td>5.2</td>\n",
       "      <td>7.7</td>\n",
       "      <td>5.6</td>\n",
       "      <td>7.7</td>\n",
       "    </tr>\n",
       "    <tr>\n",
       "      <th>47</th>\n",
       "      <td>7.8</td>\n",
       "      <td>6.3</td>\n",
       "      <td>8.8</td>\n",
       "      <td>7.4</td>\n",
       "      <td>7.6</td>\n",
       "      <td>5.5</td>\n",
       "      <td>7.7</td>\n",
       "      <td>8.2</td>\n",
       "      <td>5.3</td>\n",
       "      <td>9.0</td>\n",
       "    </tr>\n",
       "    <tr>\n",
       "      <th>50</th>\n",
       "      <td>6.8</td>\n",
       "      <td>5.2</td>\n",
       "      <td>9.0</td>\n",
       "      <td>5.4</td>\n",
       "      <td>7.1</td>\n",
       "      <td>8.1</td>\n",
       "      <td>5.3</td>\n",
       "      <td>7.2</td>\n",
       "      <td>5.9</td>\n",
       "      <td>7.5</td>\n",
       "    </tr>\n",
       "  </tbody>\n",
       "</table>\n",
       "</div>"
      ],
      "text/plain": [
       "    Ki nang giao tiep(HP2)  He dieu hanh   Chuyen de chuyen sau KTMT 2  \\\n",
       "2                      8.2           6.8                           7.2   \n",
       "5                      5.7           5.7                           7.8   \n",
       "8                      6.3           7.1                           6.4   \n",
       "11                     8.4           6.8                           8.2   \n",
       "14                     4.2           6.5                           8.0   \n",
       "17                     6.7           7.2                           7.0   \n",
       "20                     5.7           7.6                           8.2   \n",
       "23                     7.2           7.1                           8.2   \n",
       "26                     5.7           5.6                           8.8   \n",
       "29                     8.7           4.8                           7.0   \n",
       "32                     4.9           8.1                           8.6   \n",
       "35                     9.0           5.5                           9.0   \n",
       "38                     7.2           7.1                           8.3   \n",
       "41                     8.0           5.0                           9.1   \n",
       "44                     7.2           8.0                           6.3   \n",
       "47                     7.8           6.3                           8.8   \n",
       "50                     6.8           5.2                           9.0   \n",
       "\n",
       "    Tieng Anh tong quat 1  Lap trinh mang  Dien toan dam may  \\\n",
       "2                     7.4             9.4                8.0   \n",
       "5                     8.0             8.3                6.6   \n",
       "8                     6.8             6.8                5.7   \n",
       "11                    5.8             8.2                6.8   \n",
       "14                    6.4             6.9                6.6   \n",
       "17                    7.8             4.5                6.0   \n",
       "20                    6.4             7.7                6.9   \n",
       "23                    6.2             7.7                6.6   \n",
       "26                    6.7             4.2                5.1   \n",
       "29                    7.4             6.9                6.2   \n",
       "32                    8.8             6.7                6.9   \n",
       "35                    4.8             7.4                9.0   \n",
       "38                    5.8             8.3                6.6   \n",
       "41                    5.1             7.9                8.2   \n",
       "44                    6.8             8.8                6.0   \n",
       "47                    7.4             7.6                5.5   \n",
       "50                    5.4             7.1                8.1   \n",
       "\n",
       "    Truyen thong da phuong tien  Chuyen de chuyen sau KTMT 1  \\\n",
       "2                           7.9                          6.7   \n",
       "5                           7.6                          7.3   \n",
       "8                           6.1                          7.5   \n",
       "11                          8.7                          7.8   \n",
       "14                          6.2                          8.2   \n",
       "17                          5.6                          6.3   \n",
       "20                          6.2                          7.3   \n",
       "23                          6.9                          7.5   \n",
       "26                          6.2                          7.8   \n",
       "29                          5.3                          9.6   \n",
       "32                          7.9                          6.9   \n",
       "35                          7.5                          8.3   \n",
       "38                          7.7                          7.8   \n",
       "41                          5.3                          8.1   \n",
       "44                          5.2                          7.7   \n",
       "47                          7.7                          8.2   \n",
       "50                          5.3                          7.2   \n",
       "\n",
       "    An toan thong tin  Khoi nghiep  \n",
       "2                 6.0          8.1  \n",
       "5                 5.0          7.1  \n",
       "8                 8.4          6.6  \n",
       "11                5.2          7.6  \n",
       "14                5.5          8.3  \n",
       "17                5.5          5.9  \n",
       "20                7.3          6.5  \n",
       "23                6.9          6.9  \n",
       "26                7.7          7.5  \n",
       "29                5.5          6.2  \n",
       "32                7.0          5.3  \n",
       "35                5.8          7.9  \n",
       "38                6.0          6.7  \n",
       "41                4.8          7.5  \n",
       "44                5.6          7.7  \n",
       "47                5.3          9.0  \n",
       "50                5.9          7.5  "
      ]
     },
     "execution_count": 24,
     "metadata": {},
     "output_type": "execute_result"
    }
   ],
   "source": [
    "df_something=df_17Kythuatmaytinh[names]\n",
    "for col in df_something:\n",
    "    df_something[col]=df_something[col].apply(lambda x:float(str(x).replace(',','.')))\n",
    "for col in df_something:\n",
    "    df_something[col]=df_something[col].fillna(df_something[col].mean())\n",
    "df_something"
   ]
  },
  {
   "cell_type": "code",
   "execution_count": 25,
   "id": "7d767886",
   "metadata": {},
   "outputs": [
    {
     "data": {
      "text/plain": [
       "RandomForestClassifier(n_estimators=300, oob_score=True)"
      ]
     },
     "execution_count": 25,
     "metadata": {},
     "output_type": "execute_result"
    }
   ],
   "source": [
    "x_train1,x_test1,y_train1,y_test1=train_test_split(df_something,result,test_size=0.2,random_state=0)\n",
    "\n",
    "rdf = RandomForestClassifier(n_estimators=300,bootstrap=True,oob_score=True)\n",
    "rdf.fit(x_train1,y_train1)"
   ]
  },
  {
   "cell_type": "code",
   "execution_count": 26,
   "id": "d9e1d21b",
   "metadata": {},
   "outputs": [
    {
     "name": "stdout",
     "output_type": "stream",
     "text": [
      "              precision    recall  f1-score   support\n",
      "\n",
      "         Kha       1.00      0.50      0.67         2\n",
      "  Trung binh       0.67      1.00      0.80         2\n",
      "\n",
      "    accuracy                           0.75         4\n",
      "   macro avg       0.83      0.75      0.73         4\n",
      "weighted avg       0.83      0.75      0.73         4\n",
      "\n",
      "0.75\n"
     ]
    }
   ],
   "source": [
    "y_pred=rf.predict(x_test)\n",
    "print(classification_report(y_test,y_pred))\n",
    "print(accuracy_score(y_test, y_pred))"
   ]
  },
  {
   "cell_type": "code",
   "execution_count": 27,
   "id": "f7f0fc32",
   "metadata": {},
   "outputs": [
    {
     "name": "stdout",
     "output_type": "stream",
     "text": [
      "              precision    recall  f1-score   support\n",
      "\n",
      "         Kha       1.00      0.50      0.67         2\n",
      "  Trung binh       0.67      1.00      0.80         2\n",
      "\n",
      "    accuracy                           0.75         4\n",
      "   macro avg       0.83      0.75      0.73         4\n",
      "weighted avg       0.83      0.75      0.73         4\n",
      "\n",
      "0.75\n"
     ]
    }
   ],
   "source": [
    "y_pred1=rdf.predict(x_test1)\n",
    "print(classification_report(y_test1,y_pred1))\n",
    "print(accuracy_score(y_test1, y_pred1))"
   ]
  },
  {
   "cell_type": "code",
   "execution_count": null,
   "id": "28c7b09e",
   "metadata": {},
   "outputs": [],
   "source": []
  },
  {
   "cell_type": "code",
   "execution_count": null,
   "id": "952593a6",
   "metadata": {},
   "outputs": [],
   "source": []
  }
 ],
 "metadata": {
  "kernelspec": {
   "display_name": "Python 3 (ipykernel)",
   "language": "python",
   "name": "python3"
  },
  "language_info": {
   "codemirror_mode": {
    "name": "ipython",
    "version": 3
   },
   "file_extension": ".py",
   "mimetype": "text/x-python",
   "name": "python",
   "nbconvert_exporter": "python",
   "pygments_lexer": "ipython3",
   "version": "3.9.7"
  }
 },
 "nbformat": 4,
 "nbformat_minor": 5
}
